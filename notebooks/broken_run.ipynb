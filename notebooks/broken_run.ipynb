{
 "cells": [
  {
   "cell_type": "markdown",
   "id": "aafff9d6-6fff-496c-9623-c28d8c73060b",
   "metadata": {},
   "source": [
    "```\n",
    "min  c^t y\n",
    "x in circ\n",
    "z in simplex\n",
    "z = x + y\n",
    "```"
   ]
  },
  {
   "cell_type": "code",
   "execution_count": 1,
   "id": "62e8eabc-3450-4306-b7af-bc0dc1153933",
   "metadata": {},
   "outputs": [],
   "source": [
    "import cvxpy as cvx\n",
    "import numpy as np"
   ]
  },
  {
   "cell_type": "code",
   "execution_count": 2,
   "id": "ec1ccd3d-ea27-48c3-a5c0-7907e26efffa",
   "metadata": {},
   "outputs": [
    {
     "data": {
      "text/plain": [
       "-6.988819011846923"
      ]
     },
     "execution_count": 2,
     "metadata": {},
     "output_type": "execute_result"
    }
   ],
   "source": [
    "N = 5\n",
    "\n",
    "c = np.random.randn(N)\n",
    "\n",
    "x = cvx.Variable(N)\n",
    "y = cvx.Variable(N)\n",
    "z = cvx.Variable(N)\n",
    "\n",
    "obj = cvx.Minimize(c@y)\n",
    "cst = [\n",
    "    z == x + y,\n",
    "    z >= 0,\n",
    "    cvx.sum(z) <= 1,\n",
    "    cvx.norm(x) <= 1,\n",
    "]\n",
    "\n",
    "prob = cvx.Problem(obj, cst)\n",
    "prob.solve()"
   ]
  },
  {
   "cell_type": "code",
   "execution_count": 3,
   "id": "781c204b-8b2d-4b1f-98d5-6f73f168fe4a",
   "metadata": {},
   "outputs": [
    {
     "data": {
      "text/plain": [
       "array([-2.3 ,  0.53, -3.08, -0.47, -0.01])"
      ]
     },
     "execution_count": 3,
     "metadata": {},
     "output_type": "execute_result"
    }
   ],
   "source": [
    "c.round(2)"
   ]
  },
  {
   "cell_type": "code",
   "execution_count": 4,
   "id": "f29f2718-81be-45f7-8de5-9aabf351ba47",
   "metadata": {},
   "outputs": [
    {
     "data": {
      "text/plain": [
       "array([-0.59,  0.14, -0.79, -0.12, -0.  ])"
      ]
     },
     "execution_count": 4,
     "metadata": {},
     "output_type": "execute_result"
    }
   ],
   "source": [
    "x.value.round(2)"
   ]
  },
  {
   "cell_type": "code",
   "execution_count": 5,
   "id": "cfbba31e-3a87-4366-958d-405c64d73c88",
   "metadata": {},
   "outputs": [
    {
     "data": {
      "text/plain": [
       "array([ 0.59, -0.14,  1.79,  0.12,  0.  ])"
      ]
     },
     "execution_count": 5,
     "metadata": {},
     "output_type": "execute_result"
    }
   ],
   "source": [
    "y.value.round(2)"
   ]
  },
  {
   "cell_type": "code",
   "execution_count": 6,
   "id": "63474593-bf6a-404b-96ae-2862f841653c",
   "metadata": {},
   "outputs": [
    {
     "data": {
      "text/plain": [
       "array([0., 0., 1., 0., 0.])"
      ]
     },
     "execution_count": 6,
     "metadata": {},
     "output_type": "execute_result"
    }
   ],
   "source": [
    "z.value.round(2)"
   ]
  },
  {
   "cell_type": "markdown",
   "id": "aa7f7e4f-b603-4a52-9d1c-75650c617c58",
   "metadata": {},
   "source": [
    "```\n",
    "min  c^t y\n",
    "z = x + y\n",
    "\n",
    "other prob:\n",
    "x in circ\n",
    "z in simplex\n",
    "```"
   ]
  },
  {
   "cell_type": "code",
   "execution_count": 7,
   "id": "2621fc96-0b2a-41ca-9a83-b898eaac9382",
   "metadata": {},
   "outputs": [],
   "source": [
    "import proxie\n",
    "from proxie import form_stuffers"
   ]
  },
  {
   "cell_type": "code",
   "execution_count": 8,
   "id": "eae1bdc1-4ceb-4c84-a286-18a23c14cc83",
   "metadata": {},
   "outputs": [],
   "source": [
    "d = {\n",
    "    'x': N,\n",
    "    'y': N,\n",
    "    'z': N,\n",
    "}\n",
    "\n",
    "from_vec, to_vec, slices = form_stuffers(d)"
   ]
  },
  {
   "cell_type": "code",
   "execution_count": 9,
   "id": "c934342b-d928-4465-9070-2a44425c8aa5",
   "metadata": {},
   "outputs": [
    {
     "data": {
      "text/plain": [
       "{'x': slice(0, 5, None), 'y': slice(5, 10, None), 'z': slice(10, 15, None)}"
      ]
     },
     "execution_count": 9,
     "metadata": {},
     "output_type": "execute_result"
    }
   ],
   "source": [
    "slices"
   ]
  },
  {
   "cell_type": "code",
   "execution_count": 10,
   "id": "c7ce0a9f-b2ba-429f-854e-6d5e3d401626",
   "metadata": {},
   "outputs": [],
   "source": [
    "def form_prox1(c):\n",
    "    from proxie.proxes.single_lin_eq import form_prox\n",
    "    C = np.zeros(3*N)\n",
    "    A = np.ones(3*N)\n",
    "    \n",
    "    C[slices['y']] = c\n",
    "    A[slices['z']] = -1\n",
    "    \n",
    "    _prox = form_prox(C, A)\n",
    "    \n",
    "    def prox(v):\n",
    "        return _prox(v)\n",
    "    \n",
    "    return prox\n",
    "    \n",
    "    \n",
    "def prox2(v):\n",
    "    prox_ball = proxie.proxes.norm2_ball.form_prox(np.zeros(N))\n",
    "    prox_plex = proxie.proxes.relaxed_simplex.prox\n",
    "    \n",
    "    d = from_vec(v)\n",
    "    \n",
    "    x = d['x']\n",
    "    z = d['z']\n",
    "    \n",
    "    x = prox_ball(x)\n",
    "    z = prox_plex(z)\n",
    "    \n",
    "    v[slices['x']] = x\n",
    "    v[slices['z']] = z\n",
    "    \n",
    "    return v"
   ]
  },
  {
   "cell_type": "code",
   "execution_count": null,
   "id": "39ad8e04-4f65-4a78-bc99-38cee03f9bf7",
   "metadata": {},
   "outputs": [],
   "source": []
  },
  {
   "cell_type": "code",
   "execution_count": 11,
   "id": "36ef532e-bbfd-41f0-98b6-07e5aa9fd41f",
   "metadata": {},
   "outputs": [
    {
     "data": {
      "text/plain": [
       "array([0., 0., 0., 0., 0., 0., 0., 0., 0., 0., 0., 0., 0., 0., 0.])"
      ]
     },
     "execution_count": 11,
     "metadata": {},
     "output_type": "execute_result"
    }
   ],
   "source": [
    "prox1 = form_prox1(c)\n",
    "prox2(np.zeros(15))"
   ]
  },
  {
   "cell_type": "code",
   "execution_count": 14,
   "id": "a8567ee4-6ee4-47ca-9956-7bbcfabfc850",
   "metadata": {},
   "outputs": [],
   "source": [
    "z, info = proxie.dr.solver(prox1, prox2, np.zeros(3*N))"
   ]
  },
  {
   "cell_type": "code",
   "execution_count": 15,
   "id": "927bc3c0-8412-4749-b5dc-6c4b8b2cad6f",
   "metadata": {},
   "outputs": [
    {
     "data": {
      "text/plain": [
       "array([-4.47213595e-01, -4.47213595e-01, -4.47213595e-01, -4.47213595e-01,\n",
       "       -4.47213595e-01,  6.16923227e+03, -7.99620828e+03,  1.00720308e+04,\n",
       "       -2.97541852e+03, -5.26640025e+03,  2.00000000e-01,  2.00000000e-01,\n",
       "        2.00000000e-01,  2.00000000e-01,  2.00000000e-01])"
      ]
     },
     "execution_count": 15,
     "metadata": {},
     "output_type": "execute_result"
    }
   ],
   "source": [
    "z"
   ]
  },
  {
   "cell_type": "code",
   "execution_count": 16,
   "id": "45c846be-27ef-4eed-914f-6ab249545497",
   "metadata": {},
   "outputs": [
    {
     "data": {
      "text/plain": [
       "SolverInfo(converged=False, exit_tol=3.1e+00, num_iters=5001,...)"
      ]
     },
     "execution_count": 16,
     "metadata": {},
     "output_type": "execute_result"
    }
   ],
   "source": [
    "info"
   ]
  },
  {
   "cell_type": "code",
   "execution_count": 17,
   "id": "43c408ff-58da-439d-9431-6094182143aa",
   "metadata": {},
   "outputs": [
    {
     "data": {
      "image/png": "[encoded data removed]",
      "text/plain": [
       "<Figure size 432x288 with 1 Axes>"
      ]
     },
     "metadata": {
      "needs_background": "light"
     },
     "output_type": "display_data"
    }
   ],
   "source": [
    "info.plot_resids()"
   ]
  },
  {
   "cell_type": "code",
   "execution_count": null,
   "id": "fa954022-8c97-441e-b2e5-76d9a100db42",
   "metadata": {},
   "outputs": [],
   "source": []
  }
 ],
 "metadata": {
  "kernelspec": {
   "display_name": "Python 3 (ipykernel)",
   "language": "python",
   "name": "python3"
  },
  "language_info": {
   "codemirror_mode": {
    "name": "ipython",
    "version": 3
   },
   "file_extension": ".py",
   "mimetype": "text/x-python",
   "name": "python",
   "nbconvert_exporter": "python",
   "pygments_lexer": "ipython3",
   "version": "3.7.12"
  }
 },
 "nbformat": 4,
 "nbformat_minor": 5
}
