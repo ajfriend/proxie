{
 "cells": [
  {
   "cell_type": "markdown",
   "id": "aafff9d6-6fff-496c-9623-c28d8c73060b",
   "metadata": {},
   "source": [
    "```\n",
    "min  c^t [x y]\n",
    "a^t [x y] = 0\n",
    "x in circ\n",
    "z in simplex\n",
    "```"
   ]
  },
  {
   "cell_type": "code",
   "execution_count": 1,
   "id": "62e8eabc-3450-4306-b7af-bc0dc1153933",
   "metadata": {},
   "outputs": [],
   "source": [
    "import cvxpy as cvx\n",
    "import numpy as np"
   ]
  },
  {
   "cell_type": "code",
   "execution_count": 2,
   "id": "ec1ccd3d-ea27-48c3-a5c0-7907e26efffa",
   "metadata": {},
   "outputs": [
    {
     "data": {
      "text/plain": [
       "-1.895429631090411"
      ]
     },
     "execution_count": 2,
     "metadata": {},
     "output_type": "execute_result"
    }
   ],
   "source": [
    "N = 5\n",
    "\n",
    "c = np.random.randn(2*N)\n",
    "a = np.random.randn(2*N)\n",
    "\n",
    "x = cvx.Variable(N)\n",
    "y = cvx.Variable(N)\n",
    "\n",
    "\n",
    "z = cvx.hstack([x,y])\n",
    "\n",
    "obj = cvx.Minimize(c@z)\n",
    "cst = [\n",
    "    a@z == 0,\n",
    "    cvx.norm(x) <= 1,\n",
    "    y >= 0,\n",
    "    cvx.sum(y) <= 1,\n",
    "]\n",
    "\n",
    "prob = cvx.Problem(obj, cst)\n",
    "prob.solve()"
   ]
  },
  {
   "cell_type": "code",
   "execution_count": 3,
   "id": "781c204b-8b2d-4b1f-98d5-6f73f168fe4a",
   "metadata": {},
   "outputs": [],
   "source": [
    "#c.round(2)"
   ]
  },
  {
   "cell_type": "code",
   "execution_count": 4,
   "id": "f29f2718-81be-45f7-8de5-9aabf351ba47",
   "metadata": {},
   "outputs": [
    {
     "data": {
      "text/plain": [
       "array([ 0.63, -0.24,  0.43,  0.44, -0.41])"
      ]
     },
     "execution_count": 4,
     "metadata": {},
     "output_type": "execute_result"
    }
   ],
   "source": [
    "x.value.round(2)"
   ]
  },
  {
   "cell_type": "code",
   "execution_count": 5,
   "id": "cfbba31e-3a87-4366-958d-405c64d73c88",
   "metadata": {},
   "outputs": [
    {
     "data": {
      "text/plain": [
       "array([0., 0., 0., 0., 0.])"
      ]
     },
     "execution_count": 5,
     "metadata": {},
     "output_type": "execute_result"
    }
   ],
   "source": [
    "y.value.round(2)"
   ]
  },
  {
   "cell_type": "code",
   "execution_count": 6,
   "id": "63474593-bf6a-404b-96ae-2862f841653c",
   "metadata": {},
   "outputs": [],
   "source": [
    "#z.value.round(2)"
   ]
  },
  {
   "cell_type": "markdown",
   "id": "aa7f7e4f-b603-4a52-9d1c-75650c617c58",
   "metadata": {},
   "source": [
    "```\n",
    "min  c^t y\n",
    "z = x + y\n",
    "\n",
    "other prob:\n",
    "x in circ\n",
    "z in simplex\n",
    "```"
   ]
  },
  {
   "cell_type": "code",
   "execution_count": 7,
   "id": "2621fc96-0b2a-41ca-9a83-b898eaac9382",
   "metadata": {},
   "outputs": [],
   "source": [
    "import proxie\n",
    "from proxie import form_stuffers"
   ]
  },
  {
   "cell_type": "code",
   "execution_count": 8,
   "id": "eae1bdc1-4ceb-4c84-a286-18a23c14cc83",
   "metadata": {},
   "outputs": [],
   "source": [
    "d = {\n",
    "    'x': N,\n",
    "    'y': N,\n",
    "}\n",
    "\n",
    "# maybe put all this stuff into an object...\n",
    "# i like the idea of providing all the tools, so the user can do whatever they want\n",
    "from_vec, to_vec, slices = form_stuffers(d)"
   ]
  },
  {
   "cell_type": "code",
   "execution_count": 9,
   "id": "c934342b-d928-4465-9070-2a44425c8aa5",
   "metadata": {},
   "outputs": [
    {
     "data": {
      "text/plain": [
       "{'x': slice(0, 5, None), 'y': slice(5, 10, None)}"
      ]
     },
     "execution_count": 9,
     "metadata": {},
     "output_type": "execute_result"
    }
   ],
   "source": [
    "slices"
   ]
  },
  {
   "cell_type": "code",
   "execution_count": 10,
   "id": "733a07c9-f937-4ea6-ace1-310b750ac533",
   "metadata": {},
   "outputs": [],
   "source": [
    "prox1 = proxie.proxes.single_lin_eq.form_prox(c,a)"
   ]
  },
  {
   "cell_type": "code",
   "execution_count": 11,
   "id": "c7ce0a9f-b2ba-429f-854e-6d5e3d401626",
   "metadata": {},
   "outputs": [],
   "source": [
    "def prox2(v):\n",
    "    prox_ball = proxie.proxes.norm2_ball.form_prox(np.zeros(N))\n",
    "    prox_plex = proxie.proxes.relaxed_simplex.prox\n",
    "    \n",
    "    d = from_vec(v)\n",
    "    \n",
    "    x = d['x']\n",
    "    y = d['y']\n",
    "    \n",
    "    x = prox_ball(x)\n",
    "    y = prox_plex(y)\n",
    "    \n",
    "    # v = v.copy()\n",
    "    v[slices['x']] = x\n",
    "    v[slices['y']] = y\n",
    "    \n",
    "    return v"
   ]
  },
  {
   "cell_type": "code",
   "execution_count": 12,
   "id": "9aeb2d5d-74e5-4233-8e02-268efcd94a70",
   "metadata": {},
   "outputs": [],
   "source": [
    "# but we need the pre-defined from_vec and to_vec functions...\n",
    "from functools import wraps\n",
    "\n",
    "\n",
    "def vec_wrapper(func):\n",
    "\n",
    "    @wraps(func)\n",
    "    def wrapper(x):\n",
    "        inputs = from_vec(x)\n",
    "        outputs = func(**inputs)\n",
    "        x = to_vec(**outputs)\n",
    "\n",
    "        return x\n",
    "\n",
    "    \n",
    "    return wrapper"
   ]
  },
  {
   "cell_type": "code",
   "execution_count": 13,
   "id": "1399edf4-4fa3-4bf5-81ce-270abeb93482",
   "metadata": {},
   "outputs": [],
   "source": [
    "@vec_wrapper\n",
    "def prox2(x, y):\n",
    "    prox_ball = proxie.proxes.norm2_ball.form_prox(np.zeros(N))\n",
    "    prox_plex = proxie.proxes.relaxed_simplex.prox\n",
    "    \n",
    "    x = prox_ball(x)\n",
    "    y = prox_plex(y)\n",
    "\n",
    "    return {'x': x, 'y': y}"
   ]
  },
  {
   "cell_type": "code",
   "execution_count": 14,
   "id": "a8567ee4-6ee4-47ca-9956-7bbcfabfc850",
   "metadata": {},
   "outputs": [],
   "source": [
    "z, info = proxie.dr.solver(prox1, prox2, np.zeros(2*N), tol=1e-10)"
   ]
  },
  {
   "cell_type": "code",
   "execution_count": 15,
   "id": "927bc3c0-8412-4749-b5dc-6c4b8b2cad6f",
   "metadata": {},
   "outputs": [
    {
     "data": {
      "text/plain": [
       "SolverInfo(converged=True, exit_tol=9.9e-11, num_iters=89,...)"
      ]
     },
     "execution_count": 15,
     "metadata": {},
     "output_type": "execute_result"
    }
   ],
   "source": [
    "info"
   ]
  },
  {
   "cell_type": "code",
   "execution_count": 16,
   "id": "cc59bf8c-20d4-462f-a116-53aab08520c7",
   "metadata": {},
   "outputs": [
    {
     "data": {
      "text/plain": [
       "{'x': array([ 0.63, -0.24,  0.43,  0.44, -0.41]),\n",
       " 'y': array([0., 0., 0., 0., 0.])}"
      ]
     },
     "execution_count": 16,
     "metadata": {},
     "output_type": "execute_result"
    }
   ],
   "source": [
    "from_vec(z.round(2))"
   ]
  },
  {
   "cell_type": "code",
   "execution_count": null,
   "id": "291f066a-5e9a-47a4-a976-873ec98fb65d",
   "metadata": {},
   "outputs": [],
   "source": []
  }
 ],
 "metadata": {
  "kernelspec": {
   "display_name": "Python 3 (ipykernel)",
   "language": "python",
   "name": "python3"
  },
  "language_info": {
   "codemirror_mode": {
    "name": "ipython",
    "version": 3
   },
   "file_extension": ".py",
   "mimetype": "text/x-python",
   "name": "python",
   "nbconvert_exporter": "python",
   "pygments_lexer": "ipython3",
   "version": "3.7.12"
  }
 },
 "nbformat": 4,
 "nbformat_minor": 5
}
