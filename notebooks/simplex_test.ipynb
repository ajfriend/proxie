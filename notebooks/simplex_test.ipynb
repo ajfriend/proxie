{
 "cells": [
  {
   "cell_type": "code",
   "execution_count": 1,
   "id": "e19dd4ad-b44a-4f8a-81e7-6d0533cc7ff2",
   "metadata": {},
   "outputs": [],
   "source": [
    "import numpy as np\n",
    "\n",
    "from proxie import dr\n",
    "from proxie import proxes"
   ]
  },
  {
   "cell_type": "code",
   "execution_count": 2,
   "id": "245f86dc-3bf8-480f-9266-32836ec66cfd",
   "metadata": {},
   "outputs": [],
   "source": [
    "N = 10\n",
    "\n",
    "# c = np.random.randn(N)\n",
    "c = -np.random.rand(N)\n",
    "x0 = np.ones(N)\n",
    "\n",
    "prox1 = proxes.simple_bounds_linear.form_prox(c, -1, 2, tau=1)\n",
    "prox2 = proxes.relaxed_simplex.prox\n",
    "\n",
    "x, info = dr.solver(prox1, prox2, x0)"
   ]
  },
  {
   "cell_type": "code",
   "execution_count": 3,
   "id": "a071ea38-d096-4b86-80cd-df88026e3e56",
   "metadata": {},
   "outputs": [
    {
     "data": {
      "text/plain": [
       "array([0., 0., 0., 0., 0., 0., 1., 0., 0., 0.])"
      ]
     },
     "execution_count": 3,
     "metadata": {},
     "output_type": "execute_result"
    }
   ],
   "source": [
    "x"
   ]
  },
  {
   "cell_type": "code",
   "execution_count": 4,
   "id": "39c71f30-0101-4e20-92dd-87ad414a6dbc",
   "metadata": {},
   "outputs": [
    {
     "data": {
      "text/plain": [
       "array([-0.75, -0.75, -0.05, -0.91, -0.74, -0.68, -0.92, -0.5 , -0.33,\n",
       "       -0.63])"
      ]
     },
     "execution_count": 4,
     "metadata": {},
     "output_type": "execute_result"
    }
   ],
   "source": [
    "c.round(2)"
   ]
  },
  {
   "cell_type": "code",
   "execution_count": 5,
   "id": "c55f178c-a37c-4b97-95dd-db0507af1ec9",
   "metadata": {},
   "outputs": [
    {
     "data": {
      "text/plain": [
       "SolverInfo(converged=True, exit_tol=1.3e-12, num_iters=607,...)"
      ]
     },
     "execution_count": 5,
     "metadata": {},
     "output_type": "execute_result"
    }
   ],
   "source": [
    "info"
   ]
  },
  {
   "cell_type": "code",
   "execution_count": 6,
   "id": "8e93507b-ae7f-456d-b17c-f05c2e60988a",
   "metadata": {},
   "outputs": [
    {
     "data": {
      "image/png": "[encoded data removed]",
      "text/plain": [
       "<Figure size 432x288 with 1 Axes>"
      ]
     },
     "metadata": {
      "needs_background": "light"
     },
     "output_type": "display_data"
    }
   ],
   "source": [
    "info.plot_resids()"
   ]
  },
  {
   "cell_type": "code",
   "execution_count": null,
   "id": "aa303ec0-b56b-40ee-ae4a-e40802cfd217",
   "metadata": {},
   "outputs": [],
   "source": []
  }
 ],
 "metadata": {
  "kernelspec": {
   "display_name": "Python 3 (ipykernel)",
   "language": "python",
   "name": "python3"
  },
  "language_info": {
   "codemirror_mode": {
    "name": "ipython",
    "version": 3
   },
   "file_extension": ".py",
   "mimetype": "text/x-python",
   "name": "python",
   "nbconvert_exporter": "python",
   "pygments_lexer": "ipython3",
   "version": "3.7.12"
  }
 },
 "nbformat": 4,
 "nbformat_minor": 5
}
